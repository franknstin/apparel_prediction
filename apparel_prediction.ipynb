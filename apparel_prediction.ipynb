{
 "cells": [
  {
   "cell_type": "code",
   "execution_count": 1,
   "metadata": {},
   "outputs": [],
   "source": [
    "import tensorflow as tf\n",
    "from tensorflow.keras.models import Sequential\n",
    "from tensorflow.keras.layers import Dense, Conv2D, MaxPooling2D, Flatten\n",
    "import numpy as np\n",
    "import pandas as pd\n",
    "import matplotlib.pyplot as plt\n"
   ]
  },
  {
   "cell_type": "code",
   "execution_count": 2,
   "metadata": {
    "scrolled": true
   },
   "outputs": [
    {
     "data": {
      "text/plain": [
       "'2.0.0'"
      ]
     },
     "execution_count": 2,
     "metadata": {},
     "output_type": "execute_result"
    }
   ],
   "source": [
    "tf.__version__"
   ]
  },
  {
   "cell_type": "code",
   "execution_count": null,
   "metadata": {},
   "outputs": [],
   "source": []
  },
  {
   "cell_type": "markdown",
   "metadata": {},
   "source": [
    "# preparing training dataframe\n"
   ]
  },
  {
   "cell_type": "code",
   "execution_count": 3,
   "metadata": {},
   "outputs": [],
   "source": [
    "training_set = pd.read_csv('train.csv')"
   ]
  },
  {
   "cell_type": "code",
   "execution_count": 4,
   "metadata": {},
   "outputs": [
    {
     "data": {
      "text/html": [
       "<div>\n",
       "<style scoped>\n",
       "    .dataframe tbody tr th:only-of-type {\n",
       "        vertical-align: middle;\n",
       "    }\n",
       "\n",
       "    .dataframe tbody tr th {\n",
       "        vertical-align: top;\n",
       "    }\n",
       "\n",
       "    .dataframe thead th {\n",
       "        text-align: right;\n",
       "    }\n",
       "</style>\n",
       "<table border=\"1\" class=\"dataframe\">\n",
       "  <thead>\n",
       "    <tr style=\"text-align: right;\">\n",
       "      <th></th>\n",
       "      <th>id</th>\n",
       "      <th>label</th>\n",
       "    </tr>\n",
       "  </thead>\n",
       "  <tbody>\n",
       "    <tr>\n",
       "      <th>0</th>\n",
       "      <td>1</td>\n",
       "      <td>9</td>\n",
       "    </tr>\n",
       "    <tr>\n",
       "      <th>1</th>\n",
       "      <td>2</td>\n",
       "      <td>0</td>\n",
       "    </tr>\n",
       "    <tr>\n",
       "      <th>2</th>\n",
       "      <td>3</td>\n",
       "      <td>0</td>\n",
       "    </tr>\n",
       "    <tr>\n",
       "      <th>3</th>\n",
       "      <td>4</td>\n",
       "      <td>3</td>\n",
       "    </tr>\n",
       "    <tr>\n",
       "      <th>4</th>\n",
       "      <td>5</td>\n",
       "      <td>0</td>\n",
       "    </tr>\n",
       "    <tr>\n",
       "      <th>...</th>\n",
       "      <td>...</td>\n",
       "      <td>...</td>\n",
       "    </tr>\n",
       "    <tr>\n",
       "      <th>59995</th>\n",
       "      <td>59996</td>\n",
       "      <td>5</td>\n",
       "    </tr>\n",
       "    <tr>\n",
       "      <th>59996</th>\n",
       "      <td>59997</td>\n",
       "      <td>1</td>\n",
       "    </tr>\n",
       "    <tr>\n",
       "      <th>59997</th>\n",
       "      <td>59998</td>\n",
       "      <td>3</td>\n",
       "    </tr>\n",
       "    <tr>\n",
       "      <th>59998</th>\n",
       "      <td>59999</td>\n",
       "      <td>0</td>\n",
       "    </tr>\n",
       "    <tr>\n",
       "      <th>59999</th>\n",
       "      <td>60000</td>\n",
       "      <td>5</td>\n",
       "    </tr>\n",
       "  </tbody>\n",
       "</table>\n",
       "<p>60000 rows × 2 columns</p>\n",
       "</div>"
      ],
      "text/plain": [
       "          id  label\n",
       "0          1      9\n",
       "1          2      0\n",
       "2          3      0\n",
       "3          4      3\n",
       "4          5      0\n",
       "...      ...    ...\n",
       "59995  59996      5\n",
       "59996  59997      1\n",
       "59997  59998      3\n",
       "59998  59999      0\n",
       "59999  60000      5\n",
       "\n",
       "[60000 rows x 2 columns]"
      ]
     },
     "execution_count": 4,
     "metadata": {},
     "output_type": "execute_result"
    }
   ],
   "source": [
    "training_set"
   ]
  },
  {
   "cell_type": "code",
   "execution_count": 5,
   "metadata": {},
   "outputs": [],
   "source": [
    "training_img = [\"{}.png\".format(x) for x in list(training_set.id)]"
   ]
  },
  {
   "cell_type": "code",
   "execution_count": 6,
   "metadata": {},
   "outputs": [],
   "source": [
    "training_label = list(training_set.label)"
   ]
  },
  {
   "cell_type": "code",
   "execution_count": 7,
   "metadata": {},
   "outputs": [],
   "source": [
    "dict = {'Images': training_img,\n",
    "       'labels': training_label}"
   ]
  },
  {
   "cell_type": "code",
   "execution_count": 8,
   "metadata": {},
   "outputs": [],
   "source": [
    "training_set = pd.DataFrame(dict)"
   ]
  },
  {
   "cell_type": "code",
   "execution_count": 9,
   "metadata": {},
   "outputs": [
    {
     "data": {
      "text/html": [
       "<div>\n",
       "<style scoped>\n",
       "    .dataframe tbody tr th:only-of-type {\n",
       "        vertical-align: middle;\n",
       "    }\n",
       "\n",
       "    .dataframe tbody tr th {\n",
       "        vertical-align: top;\n",
       "    }\n",
       "\n",
       "    .dataframe thead th {\n",
       "        text-align: right;\n",
       "    }\n",
       "</style>\n",
       "<table border=\"1\" class=\"dataframe\">\n",
       "  <thead>\n",
       "    <tr style=\"text-align: right;\">\n",
       "      <th></th>\n",
       "      <th>Images</th>\n",
       "      <th>labels</th>\n",
       "    </tr>\n",
       "  </thead>\n",
       "  <tbody>\n",
       "    <tr>\n",
       "      <th>0</th>\n",
       "      <td>1.png</td>\n",
       "      <td>9</td>\n",
       "    </tr>\n",
       "    <tr>\n",
       "      <th>1</th>\n",
       "      <td>2.png</td>\n",
       "      <td>0</td>\n",
       "    </tr>\n",
       "    <tr>\n",
       "      <th>2</th>\n",
       "      <td>3.png</td>\n",
       "      <td>0</td>\n",
       "    </tr>\n",
       "    <tr>\n",
       "      <th>3</th>\n",
       "      <td>4.png</td>\n",
       "      <td>3</td>\n",
       "    </tr>\n",
       "    <tr>\n",
       "      <th>4</th>\n",
       "      <td>5.png</td>\n",
       "      <td>0</td>\n",
       "    </tr>\n",
       "    <tr>\n",
       "      <th>...</th>\n",
       "      <td>...</td>\n",
       "      <td>...</td>\n",
       "    </tr>\n",
       "    <tr>\n",
       "      <th>59995</th>\n",
       "      <td>59996.png</td>\n",
       "      <td>5</td>\n",
       "    </tr>\n",
       "    <tr>\n",
       "      <th>59996</th>\n",
       "      <td>59997.png</td>\n",
       "      <td>1</td>\n",
       "    </tr>\n",
       "    <tr>\n",
       "      <th>59997</th>\n",
       "      <td>59998.png</td>\n",
       "      <td>3</td>\n",
       "    </tr>\n",
       "    <tr>\n",
       "      <th>59998</th>\n",
       "      <td>59999.png</td>\n",
       "      <td>0</td>\n",
       "    </tr>\n",
       "    <tr>\n",
       "      <th>59999</th>\n",
       "      <td>60000.png</td>\n",
       "      <td>5</td>\n",
       "    </tr>\n",
       "  </tbody>\n",
       "</table>\n",
       "<p>60000 rows × 2 columns</p>\n",
       "</div>"
      ],
      "text/plain": [
       "          Images  labels\n",
       "0          1.png       9\n",
       "1          2.png       0\n",
       "2          3.png       0\n",
       "3          4.png       3\n",
       "4          5.png       0\n",
       "...          ...     ...\n",
       "59995  59996.png       5\n",
       "59996  59997.png       1\n",
       "59997  59998.png       3\n",
       "59998  59999.png       0\n",
       "59999  60000.png       5\n",
       "\n",
       "[60000 rows x 2 columns]"
      ]
     },
     "execution_count": 9,
     "metadata": {},
     "output_type": "execute_result"
    }
   ],
   "source": [
    "training_set"
   ]
  },
  {
   "cell_type": "code",
   "execution_count": 10,
   "metadata": {},
   "outputs": [],
   "source": [
    "training_set.Images = training_set.Images.astype(str)\n",
    "training_set.labels = training_set.labels.astype(str)"
   ]
  },
  {
   "cell_type": "code",
   "execution_count": 11,
   "metadata": {
    "scrolled": true
   },
   "outputs": [
    {
     "data": {
      "text/plain": [
       "Images    object\n",
       "labels    object\n",
       "dtype: object"
      ]
     },
     "execution_count": 11,
     "metadata": {},
     "output_type": "execute_result"
    }
   ],
   "source": [
    "training_set.dtypes"
   ]
  },
  {
   "cell_type": "code",
   "execution_count": null,
   "metadata": {},
   "outputs": [],
   "source": []
  },
  {
   "cell_type": "markdown",
   "metadata": {},
   "source": [
    "# preparing test dataframe"
   ]
  },
  {
   "cell_type": "code",
   "execution_count": 51,
   "metadata": {},
   "outputs": [],
   "source": [
    "test_set = pd.read_csv('test.csv')"
   ]
  },
  {
   "cell_type": "code",
   "execution_count": 52,
   "metadata": {},
   "outputs": [],
   "source": [
    "test_img = [\"{}.png\".format(x) for x in list(test_set.id)]"
   ]
  },
  {
   "cell_type": "code",
   "execution_count": 53,
   "metadata": {},
   "outputs": [],
   "source": [
    "dict2 = {'id':test_img}"
   ]
  },
  {
   "cell_type": "code",
   "execution_count": 54,
   "metadata": {},
   "outputs": [],
   "source": [
    "test_set = pd.DataFrame(dict2)"
   ]
  },
  {
   "cell_type": "code",
   "execution_count": 55,
   "metadata": {},
   "outputs": [
    {
     "data": {
      "text/html": [
       "<div>\n",
       "<style scoped>\n",
       "    .dataframe tbody tr th:only-of-type {\n",
       "        vertical-align: middle;\n",
       "    }\n",
       "\n",
       "    .dataframe tbody tr th {\n",
       "        vertical-align: top;\n",
       "    }\n",
       "\n",
       "    .dataframe thead th {\n",
       "        text-align: right;\n",
       "    }\n",
       "</style>\n",
       "<table border=\"1\" class=\"dataframe\">\n",
       "  <thead>\n",
       "    <tr style=\"text-align: right;\">\n",
       "      <th></th>\n",
       "      <th>id</th>\n",
       "    </tr>\n",
       "  </thead>\n",
       "  <tbody>\n",
       "    <tr>\n",
       "      <th>0</th>\n",
       "      <td>60001.png</td>\n",
       "    </tr>\n",
       "    <tr>\n",
       "      <th>1</th>\n",
       "      <td>60002.png</td>\n",
       "    </tr>\n",
       "    <tr>\n",
       "      <th>2</th>\n",
       "      <td>60003.png</td>\n",
       "    </tr>\n",
       "    <tr>\n",
       "      <th>3</th>\n",
       "      <td>60004.png</td>\n",
       "    </tr>\n",
       "    <tr>\n",
       "      <th>4</th>\n",
       "      <td>60005.png</td>\n",
       "    </tr>\n",
       "    <tr>\n",
       "      <th>...</th>\n",
       "      <td>...</td>\n",
       "    </tr>\n",
       "    <tr>\n",
       "      <th>9995</th>\n",
       "      <td>69996.png</td>\n",
       "    </tr>\n",
       "    <tr>\n",
       "      <th>9996</th>\n",
       "      <td>69997.png</td>\n",
       "    </tr>\n",
       "    <tr>\n",
       "      <th>9997</th>\n",
       "      <td>69998.png</td>\n",
       "    </tr>\n",
       "    <tr>\n",
       "      <th>9998</th>\n",
       "      <td>69999.png</td>\n",
       "    </tr>\n",
       "    <tr>\n",
       "      <th>9999</th>\n",
       "      <td>70000.png</td>\n",
       "    </tr>\n",
       "  </tbody>\n",
       "</table>\n",
       "<p>10000 rows × 1 columns</p>\n",
       "</div>"
      ],
      "text/plain": [
       "             id\n",
       "0     60001.png\n",
       "1     60002.png\n",
       "2     60003.png\n",
       "3     60004.png\n",
       "4     60005.png\n",
       "...         ...\n",
       "9995  69996.png\n",
       "9996  69997.png\n",
       "9997  69998.png\n",
       "9998  69999.png\n",
       "9999  70000.png\n",
       "\n",
       "[10000 rows x 1 columns]"
      ]
     },
     "execution_count": 55,
     "metadata": {},
     "output_type": "execute_result"
    }
   ],
   "source": [
    "test_set"
   ]
  },
  {
   "cell_type": "code",
   "execution_count": 56,
   "metadata": {},
   "outputs": [
    {
     "data": {
      "text/plain": [
       "10000"
      ]
     },
     "execution_count": 56,
     "metadata": {},
     "output_type": "execute_result"
    }
   ],
   "source": [
    "len(test_set)"
   ]
  },
  {
   "cell_type": "markdown",
   "metadata": {},
   "source": [
    "# preprocessing the tarining image"
   ]
  },
  {
   "cell_type": "code",
   "execution_count": 20,
   "metadata": {},
   "outputs": [],
   "source": [
    "from tensorflow.keras.preprocessing.image import ImageDataGenerator"
   ]
  },
  {
   "cell_type": "code",
   "execution_count": 21,
   "metadata": {},
   "outputs": [],
   "source": [
    "train_datagen = ImageDataGenerator(rescale=1./255,\n",
    "                                  shear_range=0.2,\n",
    "                                  zoom_range=0.2,\n",
    "                                  horizontal_flip=True)\n",
    "\n"
   ]
  },
  {
   "cell_type": "code",
   "execution_count": 22,
   "metadata": {},
   "outputs": [
    {
     "name": "stdout",
     "output_type": "stream",
     "text": [
      "Found 60000 validated image filenames belonging to 10 classes.\n"
     ]
    }
   ],
   "source": [
    "train_generator = train_datagen.flow_from_dataframe(training_set,\n",
    "                                                   directory='train',\n",
    "                                                   x_col='Images',\n",
    "                                                   y_col='labels',\n",
    "                                                   class_mode='categorical',\n",
    "                                                   target_size=(64,64),\n",
    "                                                   batch_size=32)\n",
    "\n",
    "\n",
    "                                                  \n",
    "                                                 "
   ]
  },
  {
   "cell_type": "code",
   "execution_count": null,
   "metadata": {},
   "outputs": [],
   "source": []
  },
  {
   "cell_type": "markdown",
   "metadata": {},
   "source": [
    "# building convolution neural network"
   ]
  },
  {
   "cell_type": "code",
   "execution_count": 23,
   "metadata": {},
   "outputs": [],
   "source": [
    "classifier = Sequential()"
   ]
  },
  {
   "cell_type": "code",
   "execution_count": 24,
   "metadata": {},
   "outputs": [],
   "source": [
    "#first convolutional layer\n",
    "classifier.add(Conv2D(filters=56, kernel_size=(3,3), activation='relu',\n",
    "                     input_shape=(64,64,3)))\n",
    "classifier.add(MaxPooling2D(pool_size=(2,2)))\n",
    "\n",
    "#second convolution layer\n",
    "classifier.add(Conv2D(32,(3,3), activation='relu'))\n",
    "classifier.add(MaxPooling2D(pool_size=(2,2)))"
   ]
  },
  {
   "cell_type": "code",
   "execution_count": 25,
   "metadata": {},
   "outputs": [],
   "source": [
    "#flattening\n",
    "classifier.add(Flatten())"
   ]
  },
  {
   "cell_type": "code",
   "execution_count": 26,
   "metadata": {},
   "outputs": [],
   "source": [
    "#hidden layer\n",
    "classifier.add(Dense(units=64,activation='relu'))\n",
    "\n",
    "#output layer\n",
    "classifier.add(Dense(units=10, activation='softmax'))"
   ]
  },
  {
   "cell_type": "code",
   "execution_count": 27,
   "metadata": {},
   "outputs": [],
   "source": [
    "classifier.compile(optimizer = 'adam', loss='categorical_crossentropy', \n",
    "                   metrics=['categorical_accuracy','accuracy'])"
   ]
  },
  {
   "cell_type": "code",
   "execution_count": 28,
   "metadata": {},
   "outputs": [
    {
     "name": "stdout",
     "output_type": "stream",
     "text": [
      "Model: \"sequential\"\n",
      "_________________________________________________________________\n",
      "Layer (type)                 Output Shape              Param #   \n",
      "=================================================================\n",
      "conv2d (Conv2D)              (None, 62, 62, 56)        1568      \n",
      "_________________________________________________________________\n",
      "max_pooling2d (MaxPooling2D) (None, 31, 31, 56)        0         \n",
      "_________________________________________________________________\n",
      "conv2d_1 (Conv2D)            (None, 29, 29, 32)        16160     \n",
      "_________________________________________________________________\n",
      "max_pooling2d_1 (MaxPooling2 (None, 14, 14, 32)        0         \n",
      "_________________________________________________________________\n",
      "flatten (Flatten)            (None, 6272)              0         \n",
      "_________________________________________________________________\n",
      "dense (Dense)                (None, 64)                401472    \n",
      "_________________________________________________________________\n",
      "dense_1 (Dense)              (None, 10)                650       \n",
      "=================================================================\n",
      "Total params: 419,850\n",
      "Trainable params: 419,850\n",
      "Non-trainable params: 0\n",
      "_________________________________________________________________\n"
     ]
    }
   ],
   "source": [
    "classifier.summary()"
   ]
  },
  {
   "cell_type": "markdown",
   "metadata": {},
   "source": [
    "# training"
   ]
  },
  {
   "cell_type": "code",
   "execution_count": 29,
   "metadata": {},
   "outputs": [
    {
     "name": "stdout",
     "output_type": "stream",
     "text": [
      "Epoch 1/50\n",
      "60/60 [==============================] - 12s 196ms/step - loss: 1.2588 - categorical_accuracy: 0.5464 - accuracy: 0.5464\n",
      "Epoch 2/50\n",
      "60/60 [==============================] - 11s 191ms/step - loss: 0.7303 - categorical_accuracy: 0.7375 - accuracy: 0.73756s - loss: 0.7122 - categorical_ac\n",
      "Epoch 3/50\n",
      "60/60 [==============================] - 11s 187ms/step - loss: 0.6775 - categorical_accuracy: 0.7479 - accuracy: 0.74790s - loss: 0.6848 - categorical_accuracy: 0.7446 - accuracy: 0.74\n",
      "Epoch 4/50\n",
      "60/60 [==============================] - 11s 190ms/step - loss: 0.6301 - categorical_accuracy: 0.7776 - accuracy: 0.7776\n",
      "Epoch 5/50\n",
      "60/60 [==============================] - 12s 199ms/step - loss: 0.5892 - categorical_accuracy: 0.7901 - accuracy: 0.7901\n",
      "Epoch 6/50\n",
      "60/60 [==============================] - 12s 193ms/step - loss: 0.6148 - categorical_accuracy: 0.7786 - accuracy: 0.7786\n",
      "Epoch 7/50\n",
      "60/60 [==============================] - 12s 198ms/step - loss: 0.5364 - categorical_accuracy: 0.8021 - accuracy: 0.8021\n",
      "Epoch 8/50\n",
      "60/60 [==============================] - 12s 207ms/step - loss: 0.5128 - categorical_accuracy: 0.8104 - accuracy: 0.81042s - loss: 0.5291 - categorical_accuracy: 0.8050 - accura\n",
      "Epoch 9/50\n",
      "60/60 [==============================] - 12s 194ms/step - loss: 0.5211 - categorical_accuracy: 0.8089 - accuracy: 0.8089\n",
      "Epoch 10/50\n",
      "60/60 [==============================] - 12s 206ms/step - loss: 0.5196 - categorical_accuracy: 0.8078 - accuracy: 0.8078\n",
      "Epoch 11/50\n",
      "60/60 [==============================] - 14s 226ms/step - loss: 0.5160 - categorical_accuracy: 0.8083 - accuracy: 0.8083\n",
      "Epoch 12/50\n",
      "60/60 [==============================] - 13s 216ms/step - loss: 0.5105 - categorical_accuracy: 0.8156 - accuracy: 0.8156\n",
      "Epoch 13/50\n",
      "60/60 [==============================] - 12s 200ms/step - loss: 0.5348 - categorical_accuracy: 0.8130 - accuracy: 0.81306s - loss: 0.4700 - categorical_acc\n",
      "Epoch 14/50\n",
      "60/60 [==============================] - 13s 214ms/step - loss: 0.4771 - categorical_accuracy: 0.8193 - accuracy: 0.8193\n",
      "Epoch 15/50\n",
      "60/60 [==============================] - 12s 205ms/step - loss: 0.5104 - categorical_accuracy: 0.8120 - accuracy: 0.8120\n",
      "Epoch 16/50\n",
      "60/60 [==============================] - 13s 217ms/step - loss: 0.4755 - categorical_accuracy: 0.8302 - accuracy: 0.8302\n",
      "Epoch 17/50\n",
      "60/60 [==============================] - 13s 210ms/step - loss: 0.4229 - categorical_accuracy: 0.8391 - accuracy: 0.8391\n",
      "Epoch 18/50\n",
      "60/60 [==============================] - 12s 200ms/step - loss: 0.4580 - categorical_accuracy: 0.8323 - accuracy: 0.8323\n",
      "Epoch 19/50\n",
      "60/60 [==============================] - 12s 203ms/step - loss: 0.4555 - categorical_accuracy: 0.8286 - accuracy: 0.8286\n",
      "Epoch 20/50\n",
      "60/60 [==============================] - 12s 205ms/step - loss: 0.4686 - categorical_accuracy: 0.8354 - accuracy: 0.8354\n",
      "Epoch 21/50\n",
      "60/60 [==============================] - 13s 210ms/step - loss: 0.4485 - categorical_accuracy: 0.8427 - accuracy: 0.8427\n",
      "Epoch 22/50\n",
      "60/60 [==============================] - 12s 207ms/step - loss: 0.4088 - categorical_accuracy: 0.8448 - accuracy: 0.8448\n",
      "Epoch 23/50\n",
      "60/60 [==============================] - 12s 208ms/step - loss: 0.3950 - categorical_accuracy: 0.8573 - accuracy: 0.8573\n",
      "Epoch 24/50\n",
      "60/60 [==============================] - 12s 207ms/step - loss: 0.4195 - categorical_accuracy: 0.8411 - accuracy: 0.8411\n",
      "Epoch 25/50\n",
      "60/60 [==============================] - 12s 206ms/step - loss: 0.4287 - categorical_accuracy: 0.8411 - accuracy: 0.8411\n",
      "Epoch 26/50\n",
      "60/60 [==============================] - 13s 214ms/step - loss: 0.4321 - categorical_accuracy: 0.8510 - accuracy: 0.8510\n",
      "Epoch 27/50\n",
      "60/60 [==============================] - 13s 214ms/step - loss: 0.4391 - categorical_accuracy: 0.8333 - accuracy: 0.8333\n",
      "Epoch 28/50\n",
      "60/60 [==============================] - 13s 211ms/step - loss: 0.4360 - categorical_accuracy: 0.8490 - accuracy: 0.8490\n",
      "Epoch 29/50\n",
      "60/60 [==============================] - 13s 217ms/step - loss: 0.4186 - categorical_accuracy: 0.8510 - accuracy: 0.8510\n",
      "Epoch 30/50\n",
      "60/60 [==============================] - 13s 210ms/step - loss: 0.3764 - categorical_accuracy: 0.8609 - accuracy: 0.8609\n",
      "Epoch 31/50\n",
      "60/60 [==============================] - 13s 215ms/step - loss: 0.4617 - categorical_accuracy: 0.8224 - accuracy: 0.8224\n",
      "Epoch 32/50\n",
      "60/60 [==============================] - 13s 213ms/step - loss: 0.3870 - categorical_accuracy: 0.8562 - accuracy: 0.8562\n",
      "Epoch 33/50\n",
      "60/60 [==============================] - 13s 210ms/step - loss: 0.3954 - categorical_accuracy: 0.8599 - accuracy: 0.8599\n",
      "Epoch 34/50\n",
      "60/60 [==============================] - 13s 208ms/step - loss: 0.4201 - categorical_accuracy: 0.8568 - accuracy: 0.8568\n",
      "Epoch 35/50\n",
      "60/60 [==============================] - 13s 223ms/step - loss: 0.3990 - categorical_accuracy: 0.8552 - accuracy: 0.8552\n",
      "Epoch 36/50\n",
      "60/60 [==============================] - 14s 227ms/step - loss: 0.3703 - categorical_accuracy: 0.8677 - accuracy: 0.8677\n",
      "Epoch 37/50\n",
      "60/60 [==============================] - 13s 216ms/step - loss: 0.3827 - categorical_accuracy: 0.8656 - accuracy: 0.8656\n",
      "Epoch 38/50\n",
      "60/60 [==============================] - 13s 218ms/step - loss: 0.3785 - categorical_accuracy: 0.8604 - accuracy: 0.8604\n",
      "Epoch 39/50\n",
      "60/60 [==============================] - 13s 221ms/step - loss: 0.3883 - categorical_accuracy: 0.8583 - accuracy: 0.8583\n",
      "Epoch 40/50\n",
      "60/60 [==============================] - 13s 216ms/step - loss: 0.3838 - categorical_accuracy: 0.8536 - accuracy: 0.8536\n",
      "Epoch 41/50\n",
      "60/60 [==============================] - 13s 223ms/step - loss: 0.3513 - categorical_accuracy: 0.8698 - accuracy: 0.8698\n",
      "Epoch 42/50\n",
      "60/60 [==============================] - 13s 225ms/step - loss: 0.3631 - categorical_accuracy: 0.8589 - accuracy: 0.8589\n",
      "Epoch 43/50\n",
      "60/60 [==============================] - 13s 222ms/step - loss: 0.3617 - categorical_accuracy: 0.8672 - accuracy: 0.8672\n",
      "Epoch 44/50\n",
      "60/60 [==============================] - 14s 232ms/step - loss: 0.3999 - categorical_accuracy: 0.8521 - accuracy: 0.8521\n",
      "Epoch 45/50\n",
      "60/60 [==============================] - 14s 233ms/step - loss: 0.3704 - categorical_accuracy: 0.8641 - accuracy: 0.8641\n",
      "Epoch 46/50\n",
      "60/60 [==============================] - 15s 245ms/step - loss: 0.3444 - categorical_accuracy: 0.8755 - accuracy: 0.8755\n",
      "Epoch 47/50\n",
      "60/60 [==============================] - 14s 229ms/step - loss: 0.3570 - categorical_accuracy: 0.8661 - accuracy: 0.8661\n",
      "Epoch 48/50\n",
      "60/60 [==============================] - 14s 231ms/step - loss: 0.3618 - categorical_accuracy: 0.8609 - accuracy: 0.8609\n",
      "Epoch 49/50\n",
      "60/60 [==============================] - 14s 235ms/step - loss: 0.3715 - categorical_accuracy: 0.8641 - accuracy: 0.8641\n",
      "Epoch 50/50\n",
      "60/60 [==============================] - 14s 236ms/step - loss: 0.3531 - categorical_accuracy: 0.8677 - accuracy: 0.8677\n"
     ]
    },
    {
     "data": {
      "text/plain": [
       "<tensorflow.python.keras.callbacks.History at 0x1e64239a358>"
      ]
     },
     "execution_count": 29,
     "metadata": {},
     "output_type": "execute_result"
    }
   ],
   "source": [
    "classifier.fit_generator(train_generator, epochs=50, steps_per_epoch=60)"
   ]
  },
  {
   "cell_type": "code",
   "execution_count": 32,
   "metadata": {},
   "outputs": [],
   "source": [
    "from tensorflow.keras.preprocessing import image"
   ]
  },
  {
   "cell_type": "code",
   "execution_count": 33,
   "metadata": {},
   "outputs": [],
   "source": [
    "Y_predic = []\n",
    "for i in range(len(test_set)):\n",
    "    img = image.load_img(path='test/{}'.format(test_set.Images[i]), target_size=(64,64,3))\n",
    "    img = image.img_to_array(img)\n",
    "    img_test = img.reshape((1,64,64,3))\n",
    "    classifier.predict_classes(img_test)\n",
    "    Y_predic.append(classifier.predict_classes(img_test))"
   ]
  },
  {
   "cell_type": "code",
   "execution_count": 57,
   "metadata": {},
   "outputs": [],
   "source": [
    "test_set['labels']=Y_predic"
   ]
  },
  {
   "cell_type": "code",
   "execution_count": 58,
   "metadata": {},
   "outputs": [
    {
     "data": {
      "text/html": [
       "<div>\n",
       "<style scoped>\n",
       "    .dataframe tbody tr th:only-of-type {\n",
       "        vertical-align: middle;\n",
       "    }\n",
       "\n",
       "    .dataframe tbody tr th {\n",
       "        vertical-align: top;\n",
       "    }\n",
       "\n",
       "    .dataframe thead th {\n",
       "        text-align: right;\n",
       "    }\n",
       "</style>\n",
       "<table border=\"1\" class=\"dataframe\">\n",
       "  <thead>\n",
       "    <tr style=\"text-align: right;\">\n",
       "      <th></th>\n",
       "      <th>id</th>\n",
       "      <th>labels</th>\n",
       "    </tr>\n",
       "  </thead>\n",
       "  <tbody>\n",
       "    <tr>\n",
       "      <th>0</th>\n",
       "      <td>60001.png</td>\n",
       "      <td>[9]</td>\n",
       "    </tr>\n",
       "    <tr>\n",
       "      <th>1</th>\n",
       "      <td>60002.png</td>\n",
       "      <td>[2]</td>\n",
       "    </tr>\n",
       "    <tr>\n",
       "      <th>2</th>\n",
       "      <td>60003.png</td>\n",
       "      <td>[1]</td>\n",
       "    </tr>\n",
       "    <tr>\n",
       "      <th>3</th>\n",
       "      <td>60004.png</td>\n",
       "      <td>[1]</td>\n",
       "    </tr>\n",
       "    <tr>\n",
       "      <th>4</th>\n",
       "      <td>60005.png</td>\n",
       "      <td>[6]</td>\n",
       "    </tr>\n",
       "    <tr>\n",
       "      <th>...</th>\n",
       "      <td>...</td>\n",
       "      <td>...</td>\n",
       "    </tr>\n",
       "    <tr>\n",
       "      <th>9995</th>\n",
       "      <td>69996.png</td>\n",
       "      <td>[9]</td>\n",
       "    </tr>\n",
       "    <tr>\n",
       "      <th>9996</th>\n",
       "      <td>69997.png</td>\n",
       "      <td>[1]</td>\n",
       "    </tr>\n",
       "    <tr>\n",
       "      <th>9997</th>\n",
       "      <td>69998.png</td>\n",
       "      <td>[8]</td>\n",
       "    </tr>\n",
       "    <tr>\n",
       "      <th>9998</th>\n",
       "      <td>69999.png</td>\n",
       "      <td>[1]</td>\n",
       "    </tr>\n",
       "    <tr>\n",
       "      <th>9999</th>\n",
       "      <td>70000.png</td>\n",
       "      <td>[5]</td>\n",
       "    </tr>\n",
       "  </tbody>\n",
       "</table>\n",
       "<p>10000 rows × 2 columns</p>\n",
       "</div>"
      ],
      "text/plain": [
       "             id labels\n",
       "0     60001.png    [9]\n",
       "1     60002.png    [2]\n",
       "2     60003.png    [1]\n",
       "3     60004.png    [1]\n",
       "4     60005.png    [6]\n",
       "...         ...    ...\n",
       "9995  69996.png    [9]\n",
       "9996  69997.png    [1]\n",
       "9997  69998.png    [8]\n",
       "9998  69999.png    [1]\n",
       "9999  70000.png    [5]\n",
       "\n",
       "[10000 rows x 2 columns]"
      ]
     },
     "execution_count": 58,
     "metadata": {},
     "output_type": "execute_result"
    }
   ],
   "source": [
    "test_set"
   ]
  },
  {
   "cell_type": "code",
   "execution_count": 59,
   "metadata": {},
   "outputs": [],
   "source": [
    "test_set.to_csv('sample_submission.csv')"
   ]
  },
  {
   "cell_type": "code",
   "execution_count": null,
   "metadata": {},
   "outputs": [],
   "source": []
  }
 ],
 "metadata": {
  "kernelspec": {
   "display_name": "Python 3",
   "language": "python",
   "name": "python3"
  },
  "language_info": {
   "codemirror_mode": {
    "name": "ipython",
    "version": 3
   },
   "file_extension": ".py",
   "mimetype": "text/x-python",
   "name": "python",
   "nbconvert_exporter": "python",
   "pygments_lexer": "ipython3",
   "version": "3.6.9"
  }
 },
 "nbformat": 4,
 "nbformat_minor": 4
}
